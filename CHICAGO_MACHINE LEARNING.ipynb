{
 "cells": [
  {
   "cell_type": "code",
   "execution_count": 2,
   "id": "d5519b24",
   "metadata": {},
   "outputs": [],
   "source": [
    "import pandas as pd\n",
    "import numpy as np\n",
    "from sklearn.linear_model import LinearRegression\n",
    "import seaborn as sns\n",
    "import matplotlib.pyplot as plt"
   ]
  },
  {
   "cell_type": "code",
   "execution_count": 3,
   "id": "7081cb47",
   "metadata": {},
   "outputs": [
    {
     "name": "stderr",
     "output_type": "stream",
     "text": [
      "C:\\Users\\Taimoor\\AppData\\Local\\Temp\\ipykernel_14872\\4198593904.py:1: FutureWarning: The error_bad_lines argument has been deprecated and will be removed in a future version. Use on_bad_lines in the future.\n",
      "\n",
      "\n",
      "  data=pd.read_csv('Chicago_Crimes_2001_to_2004.csv',engine='python',error_bad_lines=False)\n",
      "Skipping line 1513591: Expected 23 fields in line 1513591, saw 24\n"
     ]
    }
   ],
   "source": [
    "data=pd.read_csv('Chicago_Crimes_2001_to_2004.csv',engine='python',error_bad_lines=False)"
   ]
  },
  {
   "cell_type": "code",
   "execution_count": 4,
   "id": "28608ea6",
   "metadata": {},
   "outputs": [
    {
     "data": {
      "text/html": [
       "<div>\n",
       "<style scoped>\n",
       "    .dataframe tbody tr th:only-of-type {\n",
       "        vertical-align: middle;\n",
       "    }\n",
       "\n",
       "    .dataframe tbody tr th {\n",
       "        vertical-align: top;\n",
       "    }\n",
       "\n",
       "    .dataframe thead th {\n",
       "        text-align: right;\n",
       "    }\n",
       "</style>\n",
       "<table border=\"1\" class=\"dataframe\">\n",
       "  <thead>\n",
       "    <tr style=\"text-align: right;\">\n",
       "      <th></th>\n",
       "      <th>Unnamed: 0</th>\n",
       "      <th>ID</th>\n",
       "      <th>Case Number</th>\n",
       "      <th>Date</th>\n",
       "      <th>Block</th>\n",
       "      <th>IUCR</th>\n",
       "      <th>Primary Type</th>\n",
       "      <th>Description</th>\n",
       "      <th>Location Description</th>\n",
       "      <th>Arrest</th>\n",
       "      <th>...</th>\n",
       "      <th>Ward</th>\n",
       "      <th>Community Area</th>\n",
       "      <th>FBI Code</th>\n",
       "      <th>X Coordinate</th>\n",
       "      <th>Y Coordinate</th>\n",
       "      <th>Year</th>\n",
       "      <th>Updated On</th>\n",
       "      <th>Latitude</th>\n",
       "      <th>Longitude</th>\n",
       "      <th>Location</th>\n",
       "    </tr>\n",
       "  </thead>\n",
       "  <tbody>\n",
       "    <tr>\n",
       "      <th>0</th>\n",
       "      <td>879</td>\n",
       "      <td>4786321</td>\n",
       "      <td>HM399414</td>\n",
       "      <td>01/01/2004 12:01:00 AM</td>\n",
       "      <td>082XX S COLES AVE</td>\n",
       "      <td>0840</td>\n",
       "      <td>THEFT</td>\n",
       "      <td>FINANCIAL ID THEFT: OVER $300</td>\n",
       "      <td>RESIDENCE</td>\n",
       "      <td>False</td>\n",
       "      <td>...</td>\n",
       "      <td>7.0</td>\n",
       "      <td>46.0</td>\n",
       "      <td>06</td>\n",
       "      <td>NaN</td>\n",
       "      <td>NaN</td>\n",
       "      <td>2004.0</td>\n",
       "      <td>08/17/2015 03:03:40 PM</td>\n",
       "      <td>NaN</td>\n",
       "      <td>NaN</td>\n",
       "      <td>NaN</td>\n",
       "    </tr>\n",
       "    <tr>\n",
       "      <th>1</th>\n",
       "      <td>2544</td>\n",
       "      <td>4676906</td>\n",
       "      <td>HM278933</td>\n",
       "      <td>03/01/2003 12:00:00 AM</td>\n",
       "      <td>004XX W 42ND PL</td>\n",
       "      <td>2825</td>\n",
       "      <td>OTHER OFFENSE</td>\n",
       "      <td>HARASSMENT BY TELEPHONE</td>\n",
       "      <td>RESIDENCE</td>\n",
       "      <td>False</td>\n",
       "      <td>...</td>\n",
       "      <td>11.0</td>\n",
       "      <td>61.0</td>\n",
       "      <td>26</td>\n",
       "      <td>1173974.0</td>\n",
       "      <td>1876757.0</td>\n",
       "      <td>2003.0</td>\n",
       "      <td>04/15/2016 08:55:02 AM</td>\n",
       "      <td>41.817229156</td>\n",
       "      <td>-87.637328</td>\n",
       "      <td>(41.817229156, -87.637328162)</td>\n",
       "    </tr>\n",
       "    <tr>\n",
       "      <th>2</th>\n",
       "      <td>2919</td>\n",
       "      <td>4789749</td>\n",
       "      <td>HM402220</td>\n",
       "      <td>06/20/2004 11:00:00 AM</td>\n",
       "      <td>025XX N KIMBALL AVE</td>\n",
       "      <td>1752</td>\n",
       "      <td>OFFENSE INVOLVING CHILDREN</td>\n",
       "      <td>AGG CRIM SEX ABUSE FAM MEMBER</td>\n",
       "      <td>RESIDENCE</td>\n",
       "      <td>False</td>\n",
       "      <td>...</td>\n",
       "      <td>35.0</td>\n",
       "      <td>22.0</td>\n",
       "      <td>20</td>\n",
       "      <td>NaN</td>\n",
       "      <td>NaN</td>\n",
       "      <td>2004.0</td>\n",
       "      <td>08/17/2015 03:03:40 PM</td>\n",
       "      <td>NaN</td>\n",
       "      <td>NaN</td>\n",
       "      <td>NaN</td>\n",
       "    </tr>\n",
       "    <tr>\n",
       "      <th>3</th>\n",
       "      <td>2927</td>\n",
       "      <td>4789765</td>\n",
       "      <td>HM402058</td>\n",
       "      <td>12/30/2004 08:00:00 PM</td>\n",
       "      <td>045XX W MONTANA ST</td>\n",
       "      <td>0840</td>\n",
       "      <td>THEFT</td>\n",
       "      <td>FINANCIAL ID THEFT: OVER $300</td>\n",
       "      <td>OTHER</td>\n",
       "      <td>False</td>\n",
       "      <td>...</td>\n",
       "      <td>31.0</td>\n",
       "      <td>20.0</td>\n",
       "      <td>06</td>\n",
       "      <td>NaN</td>\n",
       "      <td>NaN</td>\n",
       "      <td>2004.0</td>\n",
       "      <td>08/17/2015 03:03:40 PM</td>\n",
       "      <td>NaN</td>\n",
       "      <td>NaN</td>\n",
       "      <td>NaN</td>\n",
       "    </tr>\n",
       "    <tr>\n",
       "      <th>4</th>\n",
       "      <td>3302</td>\n",
       "      <td>4677901</td>\n",
       "      <td>HM275615</td>\n",
       "      <td>05/01/2003 01:00:00 AM</td>\n",
       "      <td>111XX S NORMAL AVE</td>\n",
       "      <td>0841</td>\n",
       "      <td>THEFT</td>\n",
       "      <td>FINANCIAL ID THEFT:$300 &amp;UNDER</td>\n",
       "      <td>RESIDENCE</td>\n",
       "      <td>False</td>\n",
       "      <td>...</td>\n",
       "      <td>34.0</td>\n",
       "      <td>49.0</td>\n",
       "      <td>06</td>\n",
       "      <td>1174948.0</td>\n",
       "      <td>1831051.0</td>\n",
       "      <td>2003.0</td>\n",
       "      <td>04/15/2016 08:55:02 AM</td>\n",
       "      <td>41.691784636</td>\n",
       "      <td>-87.635116</td>\n",
       "      <td>(41.691784636, -87.635115968)</td>\n",
       "    </tr>\n",
       "  </tbody>\n",
       "</table>\n",
       "<p>5 rows × 23 columns</p>\n",
       "</div>"
      ],
      "text/plain": [
       "   Unnamed: 0       ID Case Number                    Date  \\\n",
       "0         879  4786321    HM399414  01/01/2004 12:01:00 AM   \n",
       "1        2544  4676906    HM278933  03/01/2003 12:00:00 AM   \n",
       "2        2919  4789749    HM402220  06/20/2004 11:00:00 AM   \n",
       "3        2927  4789765    HM402058  12/30/2004 08:00:00 PM   \n",
       "4        3302  4677901    HM275615  05/01/2003 01:00:00 AM   \n",
       "\n",
       "                 Block  IUCR                Primary Type  \\\n",
       "0    082XX S COLES AVE  0840                       THEFT   \n",
       "1      004XX W 42ND PL  2825               OTHER OFFENSE   \n",
       "2  025XX N KIMBALL AVE  1752  OFFENSE INVOLVING CHILDREN   \n",
       "3   045XX W MONTANA ST  0840                       THEFT   \n",
       "4   111XX S NORMAL AVE  0841                       THEFT   \n",
       "\n",
       "                      Description Location Description  Arrest  ...  Ward  \\\n",
       "0   FINANCIAL ID THEFT: OVER $300            RESIDENCE   False  ...   7.0   \n",
       "1         HARASSMENT BY TELEPHONE            RESIDENCE   False  ...  11.0   \n",
       "2   AGG CRIM SEX ABUSE FAM MEMBER            RESIDENCE   False  ...  35.0   \n",
       "3   FINANCIAL ID THEFT: OVER $300                OTHER   False  ...  31.0   \n",
       "4  FINANCIAL ID THEFT:$300 &UNDER            RESIDENCE   False  ...  34.0   \n",
       "\n",
       "   Community Area  FBI Code  X Coordinate  Y Coordinate    Year  \\\n",
       "0            46.0        06           NaN           NaN  2004.0   \n",
       "1            61.0        26     1173974.0     1876757.0  2003.0   \n",
       "2            22.0        20           NaN           NaN  2004.0   \n",
       "3            20.0        06           NaN           NaN  2004.0   \n",
       "4            49.0        06     1174948.0     1831051.0  2003.0   \n",
       "\n",
       "               Updated On      Latitude  Longitude  \\\n",
       "0  08/17/2015 03:03:40 PM           NaN        NaN   \n",
       "1  04/15/2016 08:55:02 AM  41.817229156 -87.637328   \n",
       "2  08/17/2015 03:03:40 PM           NaN        NaN   \n",
       "3  08/17/2015 03:03:40 PM           NaN        NaN   \n",
       "4  04/15/2016 08:55:02 AM  41.691784636 -87.635116   \n",
       "\n",
       "                        Location  \n",
       "0                            NaN  \n",
       "1  (41.817229156, -87.637328162)  \n",
       "2                            NaN  \n",
       "3                            NaN  \n",
       "4  (41.691784636, -87.635115968)  \n",
       "\n",
       "[5 rows x 23 columns]"
      ]
     },
     "execution_count": 4,
     "metadata": {},
     "output_type": "execute_result"
    }
   ],
   "source": [
    "data.head(5)"
   ]
  },
  {
   "cell_type": "code",
   "execution_count": 5,
   "id": "8b1e7b46",
   "metadata": {},
   "outputs": [
    {
     "data": {
      "text/plain": [
       "(1923515, 23)"
      ]
     },
     "execution_count": 5,
     "metadata": {},
     "output_type": "execute_result"
    }
   ],
   "source": [
    "data.shape"
   ]
  },
  {
   "cell_type": "code",
   "execution_count": 6,
   "id": "6e3a214d",
   "metadata": {},
   "outputs": [
    {
     "data": {
      "text/html": [
       "<div>\n",
       "<style scoped>\n",
       "    .dataframe tbody tr th:only-of-type {\n",
       "        vertical-align: middle;\n",
       "    }\n",
       "\n",
       "    .dataframe tbody tr th {\n",
       "        vertical-align: top;\n",
       "    }\n",
       "\n",
       "    .dataframe thead th {\n",
       "        text-align: right;\n",
       "    }\n",
       "</style>\n",
       "<table border=\"1\" class=\"dataframe\">\n",
       "  <thead>\n",
       "    <tr style=\"text-align: right;\">\n",
       "      <th></th>\n",
       "      <th>Unnamed: 0</th>\n",
       "      <th>ID</th>\n",
       "      <th>Beat</th>\n",
       "      <th>District</th>\n",
       "      <th>Ward</th>\n",
       "      <th>Community Area</th>\n",
       "      <th>X Coordinate</th>\n",
       "      <th>Year</th>\n",
       "      <th>Longitude</th>\n",
       "    </tr>\n",
       "  </thead>\n",
       "  <tbody>\n",
       "    <tr>\n",
       "      <th>count</th>\n",
       "      <td>1.923515e+06</td>\n",
       "      <td>1.923515e+06</td>\n",
       "      <td>1.923515e+06</td>\n",
       "      <td>1.923513e+06</td>\n",
       "      <td>1.223383e+06</td>\n",
       "      <td>1.223268e+06</td>\n",
       "      <td>1.892824e+06</td>\n",
       "      <td>1.923515e+06</td>\n",
       "      <td>1.892823e+06</td>\n",
       "    </tr>\n",
       "    <tr>\n",
       "      <th>mean</th>\n",
       "      <td>4.455517e+06</td>\n",
       "      <td>2.450314e+06</td>\n",
       "      <td>1.217773e+03</td>\n",
       "      <td>1.134669e+01</td>\n",
       "      <td>2.246317e+01</td>\n",
       "      <td>3.725664e+01</td>\n",
       "      <td>1.164549e+06</td>\n",
       "      <td>2.002354e+03</td>\n",
       "      <td>-8.767167e+01</td>\n",
       "    </tr>\n",
       "    <tr>\n",
       "      <th>std</th>\n",
       "      <td>6.692676e+05</td>\n",
       "      <td>7.662898e+05</td>\n",
       "      <td>7.086507e+02</td>\n",
       "      <td>6.977792e+00</td>\n",
       "      <td>1.392668e+01</td>\n",
       "      <td>2.146987e+01</td>\n",
       "      <td>1.617451e+04</td>\n",
       "      <td>1.795053e+00</td>\n",
       "      <td>5.880068e-02</td>\n",
       "    </tr>\n",
       "    <tr>\n",
       "      <th>min</th>\n",
       "      <td>8.790000e+02</td>\n",
       "      <td>6.340000e+02</td>\n",
       "      <td>1.110000e+02</td>\n",
       "      <td>1.000000e+00</td>\n",
       "      <td>1.000000e+00</td>\n",
       "      <td>0.000000e+00</td>\n",
       "      <td>0.000000e+00</td>\n",
       "      <td>4.178983e+01</td>\n",
       "      <td>-9.168657e+01</td>\n",
       "    </tr>\n",
       "    <tr>\n",
       "      <th>25%</th>\n",
       "      <td>3.931944e+06</td>\n",
       "      <td>1.819338e+06</td>\n",
       "      <td>6.240000e+02</td>\n",
       "      <td>6.000000e+00</td>\n",
       "      <td>1.000000e+01</td>\n",
       "      <td>2.300000e+01</td>\n",
       "      <td>1.153269e+06</td>\n",
       "      <td>2.001000e+03</td>\n",
       "      <td>-8.771252e+01</td>\n",
       "    </tr>\n",
       "    <tr>\n",
       "      <th>50%</th>\n",
       "      <td>4.475318e+06</td>\n",
       "      <td>2.414899e+06</td>\n",
       "      <td>1.114000e+03</td>\n",
       "      <td>1.000000e+01</td>\n",
       "      <td>2.200000e+01</td>\n",
       "      <td>3.200000e+01</td>\n",
       "      <td>1.165916e+06</td>\n",
       "      <td>2.002000e+03</td>\n",
       "      <td>-8.766638e+01</td>\n",
       "    </tr>\n",
       "    <tr>\n",
       "      <th>75%</th>\n",
       "      <td>4.957632e+06</td>\n",
       "      <td>3.017702e+06</td>\n",
       "      <td>1.813000e+03</td>\n",
       "      <td>1.700000e+01</td>\n",
       "      <td>3.300000e+01</td>\n",
       "      <td>5.600000e+01</td>\n",
       "      <td>1.176269e+06</td>\n",
       "      <td>2.003000e+03</td>\n",
       "      <td>-8.762885e+01</td>\n",
       "    </tr>\n",
       "    <tr>\n",
       "      <th>max</th>\n",
       "      <td>6.254041e+06</td>\n",
       "      <td>1.081375e+07</td>\n",
       "      <td>2.535000e+03</td>\n",
       "      <td>3.100000e+01</td>\n",
       "      <td>5.000000e+01</td>\n",
       "      <td>7.700000e+01</td>\n",
       "      <td>1.205119e+06</td>\n",
       "      <td>2.004000e+03</td>\n",
       "      <td>-8.752453e+01</td>\n",
       "    </tr>\n",
       "  </tbody>\n",
       "</table>\n",
       "</div>"
      ],
      "text/plain": [
       "         Unnamed: 0            ID          Beat      District          Ward  \\\n",
       "count  1.923515e+06  1.923515e+06  1.923515e+06  1.923513e+06  1.223383e+06   \n",
       "mean   4.455517e+06  2.450314e+06  1.217773e+03  1.134669e+01  2.246317e+01   \n",
       "std    6.692676e+05  7.662898e+05  7.086507e+02  6.977792e+00  1.392668e+01   \n",
       "min    8.790000e+02  6.340000e+02  1.110000e+02  1.000000e+00  1.000000e+00   \n",
       "25%    3.931944e+06  1.819338e+06  6.240000e+02  6.000000e+00  1.000000e+01   \n",
       "50%    4.475318e+06  2.414899e+06  1.114000e+03  1.000000e+01  2.200000e+01   \n",
       "75%    4.957632e+06  3.017702e+06  1.813000e+03  1.700000e+01  3.300000e+01   \n",
       "max    6.254041e+06  1.081375e+07  2.535000e+03  3.100000e+01  5.000000e+01   \n",
       "\n",
       "       Community Area  X Coordinate          Year     Longitude  \n",
       "count    1.223268e+06  1.892824e+06  1.923515e+06  1.892823e+06  \n",
       "mean     3.725664e+01  1.164549e+06  2.002354e+03 -8.767167e+01  \n",
       "std      2.146987e+01  1.617451e+04  1.795053e+00  5.880068e-02  \n",
       "min      0.000000e+00  0.000000e+00  4.178983e+01 -9.168657e+01  \n",
       "25%      2.300000e+01  1.153269e+06  2.001000e+03 -8.771252e+01  \n",
       "50%      3.200000e+01  1.165916e+06  2.002000e+03 -8.766638e+01  \n",
       "75%      5.600000e+01  1.176269e+06  2.003000e+03 -8.762885e+01  \n",
       "max      7.700000e+01  1.205119e+06  2.004000e+03 -8.752453e+01  "
      ]
     },
     "execution_count": 6,
     "metadata": {},
     "output_type": "execute_result"
    }
   ],
   "source": [
    "data.describe()"
   ]
  },
  {
   "cell_type": "code",
   "execution_count": 7,
   "id": "c748de11",
   "metadata": {},
   "outputs": [
    {
     "data": {
      "text/plain": [
       "Index(['Unnamed: 0', 'ID', 'Case Number', 'Date', 'Block', 'IUCR',\n",
       "       'Primary Type', 'Description', 'Location Description', 'Arrest',\n",
       "       'Domestic', 'Beat', 'District', 'Ward', 'Community Area', 'FBI Code',\n",
       "       'X Coordinate', 'Y Coordinate', 'Year', 'Updated On', 'Latitude',\n",
       "       'Longitude', 'Location'],\n",
       "      dtype='object')"
      ]
     },
     "execution_count": 7,
     "metadata": {},
     "output_type": "execute_result"
    }
   ],
   "source": [
    "data.columns"
   ]
  },
  {
   "cell_type": "code",
   "execution_count": 8,
   "id": "f8140669",
   "metadata": {},
   "outputs": [
    {
     "data": {
      "text/plain": [
       "Unnamed: 0                   0\n",
       "ID                           0\n",
       "Case Number                  0\n",
       "Date                         0\n",
       "Block                        0\n",
       "IUCR                         0\n",
       "Primary Type                 0\n",
       "Description                  0\n",
       "Location Description        16\n",
       "Arrest                       0\n",
       "Domestic                     0\n",
       "Beat                         0\n",
       "District                     2\n",
       "Ward                    700132\n",
       "Community Area          700247\n",
       "FBI Code                     0\n",
       "X Coordinate             30691\n",
       "Y Coordinate             30691\n",
       "Year                         0\n",
       "Updated On                   0\n",
       "Latitude                 30691\n",
       "Longitude                30692\n",
       "Location                 30692\n",
       "dtype: int64"
      ]
     },
     "execution_count": 8,
     "metadata": {},
     "output_type": "execute_result"
    }
   ],
   "source": [
    "data.isnull().sum()"
   ]
  },
  {
   "cell_type": "code",
   "execution_count": 9,
   "id": "f77c30c6",
   "metadata": {},
   "outputs": [
    {
     "data": {
      "text/plain": [
       "count     1923515\n",
       "unique        339\n",
       "top        SIMPLE\n",
       "freq       296808\n",
       "Name: Description, dtype: object"
      ]
     },
     "execution_count": 9,
     "metadata": {},
     "output_type": "execute_result"
    }
   ],
   "source": [
    "data['Description'].describe()"
   ]
  },
  {
   "cell_type": "code",
   "execution_count": 10,
   "id": "8caf993a",
   "metadata": {},
   "outputs": [
    {
     "data": {
      "text/plain": [
       "<AxesSubplot:>"
      ]
     },
     "execution_count": 10,
     "metadata": {},
     "output_type": "execute_result"
    },
    {
     "data": {
      "image/png": "[encoded data removed]",
      "text/plain": [
       "<Figure size 432x288 with 1 Axes>"
      ]
     },
     "metadata": {
      "needs_background": "light"
     },
     "output_type": "display_data"
    }
   ],
   "source": [
    "sns.boxplot(data=data['Ward'],color='green')"
   ]
  },
  {
   "cell_type": "code",
   "execution_count": 11,
   "id": "2348bce1",
   "metadata": {},
   "outputs": [
    {
     "data": {
      "text/plain": [
       "False    1354640\n",
       "True      568875\n",
       "Name: Arrest, dtype: int64"
      ]
     },
     "execution_count": 11,
     "metadata": {},
     "output_type": "execute_result"
    }
   ],
   "source": [
    "data['Arrest'].value_counts()"
   ]
  },
  {
   "cell_type": "code",
   "execution_count": 12,
   "id": "df8e15cf",
   "metadata": {},
   "outputs": [
    {
     "data": {
      "text/plain": [
       "<AxesSubplot:>"
      ]
     },
     "execution_count": 12,
     "metadata": {},
     "output_type": "execute_result"
    },
    {
     "data": {
      "image/png": "[encoded data removed]",
      "text/plain": [
       "<Figure size 432x288 with 1 Axes>"
      ]
     },
     "metadata": {
      "needs_background": "light"
     },
     "output_type": "display_data"
    }
   ],
   "source": [
    "data['Domestic'].value_counts().plot(kind='bar')"
   ]
  },
  {
   "cell_type": "code",
   "execution_count": 13,
   "id": "a74f49cc",
   "metadata": {},
   "outputs": [
    {
     "data": {
      "text/plain": [
       "700132"
      ]
     },
     "execution_count": 13,
     "metadata": {},
     "output_type": "execute_result"
    }
   ],
   "source": [
    "data['Ward'].isnull().sum()"
   ]
  },
  {
   "cell_type": "code",
   "execution_count": 14,
   "id": "7627e65a",
   "metadata": {},
   "outputs": [
    {
     "data": {
      "text/plain": [
       "<AxesSubplot:xlabel='Beat', ylabel='Count'>"
      ]
     },
     "execution_count": 14,
     "metadata": {},
     "output_type": "execute_result"
    },
    {
     "data": {
      "image/png": "[encoded data removed]",
      "text/plain": [
       "<Figure size 432x288 with 1 Axes>"
      ]
     },
     "metadata": {
      "needs_background": "light"
     },
     "output_type": "display_data"
    }
   ],
   "source": [
    "sns.histplot(data=data['Beat'],color='blue')"
   ]
  },
  {
   "cell_type": "code",
   "execution_count": 15,
   "id": "e229b5fb",
   "metadata": {},
   "outputs": [
    {
     "data": {
      "text/plain": [
       "(array([176393., 148269.,  98193., 146312., 127532., 168189., 104451.,\n",
       "         82079.,  97680.,  74285.]),\n",
       " array([ 1. ,  5.9, 10.8, 15.7, 20.6, 25.5, 30.4, 35.3, 40.2, 45.1, 50. ]),\n",
       " <BarContainer object of 10 artists>)"
      ]
     },
     "execution_count": 15,
     "metadata": {},
     "output_type": "execute_result"
    },
    {
     "data": {
      "image/png": "[encoded data removed]",
      "text/plain": [
       "<Figure size 432x288 with 1 Axes>"
      ]
     },
     "metadata": {
      "needs_background": "light"
     },
     "output_type": "display_data"
    }
   ],
   "source": [
    "x=data['Ward']\n",
    "plt.hist(x,edgecolor='red',color='green')"
   ]
  },
  {
   "cell_type": "code",
   "execution_count": 16,
   "id": "4e0d630b",
   "metadata": {},
   "outputs": [
    {
     "data": {
      "text/plain": [
       "<AxesSubplot:>"
      ]
     },
     "execution_count": 16,
     "metadata": {},
     "output_type": "execute_result"
    },
    {
     "data": {
      "image/png": "[encoded data removed]",
      "text/plain": [
       "<Figure size 432x288 with 1 Axes>"
      ]
     },
     "metadata": {
      "needs_background": "light"
     },
     "output_type": "display_data"
    }
   ],
   "source": [
    "#OVERALL CRIME RATE CHECKING\n",
    "data['Primary Type'].value_counts().plot(kind='bar',edgecolor='red',color='black')"
   ]
  },
  {
   "cell_type": "code",
   "execution_count": 17,
   "id": "75483bb2",
   "metadata": {},
   "outputs": [
    {
     "data": {
      "text/plain": [
       "2001.000000    568517\n",
       "2002.000000    490879\n",
       "2003.000000    475913\n",
       "2004.000000    388205\n",
       "41.789832           1\n",
       "Name: Year, dtype: int64"
      ]
     },
     "execution_count": 17,
     "metadata": {},
     "output_type": "execute_result"
    }
   ],
   "source": [
    "data['Year'].value_counts() "
   ]
  },
  {
   "cell_type": "code",
   "execution_count": 18,
   "id": "2a5b1e57",
   "metadata": {},
   "outputs": [
    {
     "data": {
      "text/plain": [
       "<AxesSubplot:>"
      ]
     },
     "execution_count": 18,
     "metadata": {},
     "output_type": "execute_result"
    },
    {
     "data": {
      "image/png": "[encoded data removed]",
      "text/plain": [
       "<Figure size 432x288 with 1 Axes>"
      ]
     },
     "metadata": {
      "needs_background": "light"
     },
     "output_type": "display_data"
    }
   ],
   "source": [
    "# LETS CHECK HOW MANY PEOPLE ARREST WHEN PRIME OR CRIME TYPE  IS THEFT\n",
    "data['Arrest'][data['Primary Type']=='THEFT'].value_counts().plot(kind='bar',color='green') \n"
   ]
  },
  {
   "cell_type": "code",
   "execution_count": 19,
   "id": "76a68d6a",
   "metadata": {},
   "outputs": [],
   "source": [
    "data[\"Date\"] = pd.to_datetime(data[\"Date\"])"
   ]
  },
  {
   "cell_type": "code",
   "execution_count": 20,
   "id": "19916baf",
   "metadata": {},
   "outputs": [],
   "source": [
    "X = data[\"Date\"]\n",
    "Y = data['Arrest']"
   ]
  },
  {
   "cell_type": "code",
   "execution_count": 21,
   "id": "1855f4b5",
   "metadata": {},
   "outputs": [],
   "source": [
    "import matplotlib.dates as mdates"
   ]
  },
  {
   "cell_type": "markdown",
   "id": "2e3540a9",
   "metadata": {},
   "source": [
    "**SPLITTING DATAFRAME WITH RESPECT TO YEAR TO GET BETTER INSIGHT**"
   ]
  },
  {
   "cell_type": "code",
   "execution_count": 22,
   "id": "6af47327",
   "metadata": {},
   "outputs": [],
   "source": [
    "data['Year']=data['Date'].dt.year"
   ]
  },
  {
   "cell_type": "code",
   "execution_count": 23,
   "id": "dedee701",
   "metadata": {},
   "outputs": [],
   "source": [
    "df_2001=data[data['Year']==2001]"
   ]
  },
  {
   "cell_type": "code",
   "execution_count": 24,
   "id": "313090f3",
   "metadata": {},
   "outputs": [],
   "source": [
    "df_2002=data[data['Year']==2002]"
   ]
  },
  {
   "cell_type": "code",
   "execution_count": 25,
   "id": "7dbcfefb",
   "metadata": {},
   "outputs": [],
   "source": [
    "df_2003=data[data['Year']==2003]"
   ]
  },
  {
   "cell_type": "code",
   "execution_count": 26,
   "id": "d1123b19",
   "metadata": {},
   "outputs": [],
   "source": [
    "df_2004=data[data['Year']==2004]"
   ]
  },
  {
   "cell_type": "code",
   "execution_count": 27,
   "id": "c6b8089c",
   "metadata": {},
   "outputs": [
    {
     "data": {
      "text/html": [
       "<div>\n",
       "<style scoped>\n",
       "    .dataframe tbody tr th:only-of-type {\n",
       "        vertical-align: middle;\n",
       "    }\n",
       "\n",
       "    .dataframe tbody tr th {\n",
       "        vertical-align: top;\n",
       "    }\n",
       "\n",
       "    .dataframe thead th {\n",
       "        text-align: right;\n",
       "    }\n",
       "</style>\n",
       "<table border=\"1\" class=\"dataframe\">\n",
       "  <thead>\n",
       "    <tr style=\"text-align: right;\">\n",
       "      <th></th>\n",
       "      <th>Unnamed: 0</th>\n",
       "      <th>ID</th>\n",
       "      <th>Case Number</th>\n",
       "      <th>Date</th>\n",
       "      <th>Block</th>\n",
       "      <th>IUCR</th>\n",
       "      <th>Primary Type</th>\n",
       "      <th>Description</th>\n",
       "      <th>Location Description</th>\n",
       "      <th>Arrest</th>\n",
       "      <th>...</th>\n",
       "      <th>Ward</th>\n",
       "      <th>Community Area</th>\n",
       "      <th>FBI Code</th>\n",
       "      <th>X Coordinate</th>\n",
       "      <th>Y Coordinate</th>\n",
       "      <th>Year</th>\n",
       "      <th>Updated On</th>\n",
       "      <th>Latitude</th>\n",
       "      <th>Longitude</th>\n",
       "      <th>Location</th>\n",
       "    </tr>\n",
       "  </thead>\n",
       "  <tbody>\n",
       "    <tr>\n",
       "      <th>6</th>\n",
       "      <td>3756</td>\n",
       "      <td>4791194</td>\n",
       "      <td>HM403711</td>\n",
       "      <td>2001-01-01 11:00:00</td>\n",
       "      <td>114XX S ST LAWRENCE AVE</td>\n",
       "      <td>0266</td>\n",
       "      <td>CRIM SEXUAL ASSAULT</td>\n",
       "      <td>PREDATORY</td>\n",
       "      <td>RESIDENCE</td>\n",
       "      <td>True</td>\n",
       "      <td>...</td>\n",
       "      <td>9.0</td>\n",
       "      <td>50.0</td>\n",
       "      <td>02</td>\n",
       "      <td>1182247.0</td>\n",
       "      <td>1829375.0</td>\n",
       "      <td>2001</td>\n",
       "      <td>08/29/2006 03:46:28 AM</td>\n",
       "      <td>41.687020002</td>\n",
       "      <td>-87.608445</td>\n",
       "      <td>(41.687020002, -87.60844523)</td>\n",
       "    </tr>\n",
       "    <tr>\n",
       "      <th>17</th>\n",
       "      <td>10808</td>\n",
       "      <td>4803028</td>\n",
       "      <td>HM414773</td>\n",
       "      <td>2001-01-01 00:00:00</td>\n",
       "      <td>055XX S TRIPP AVE</td>\n",
       "      <td>1753</td>\n",
       "      <td>OFFENSE INVOLVING CHILDREN</td>\n",
       "      <td>SEX ASSLT OF CHILD BY FAM MBR</td>\n",
       "      <td>RESIDENCE</td>\n",
       "      <td>True</td>\n",
       "      <td>...</td>\n",
       "      <td>13.0</td>\n",
       "      <td>62.0</td>\n",
       "      <td>02</td>\n",
       "      <td>1149024.0</td>\n",
       "      <td>1867199.0</td>\n",
       "      <td>2001</td>\n",
       "      <td>10/03/2006 05:10:58 AM</td>\n",
       "      <td>41.791518681</td>\n",
       "      <td>-87.729099</td>\n",
       "      <td>(41.791518681, -87.729098793)</td>\n",
       "    </tr>\n",
       "    <tr>\n",
       "      <th>18</th>\n",
       "      <td>11210</td>\n",
       "      <td>4803606</td>\n",
       "      <td>HM417252</td>\n",
       "      <td>2001-01-01 00:00:00</td>\n",
       "      <td>032XX S OAKLEY AVE</td>\n",
       "      <td>0840</td>\n",
       "      <td>THEFT</td>\n",
       "      <td>FINANCIAL ID THEFT: OVER $300</td>\n",
       "      <td>OTHER</td>\n",
       "      <td>False</td>\n",
       "      <td>...</td>\n",
       "      <td>12.0</td>\n",
       "      <td>59.0</td>\n",
       "      <td>06</td>\n",
       "      <td>1161574.0</td>\n",
       "      <td>1882962.0</td>\n",
       "      <td>2001</td>\n",
       "      <td>06/25/2006 04:27:37 AM</td>\n",
       "      <td>41.834522994</td>\n",
       "      <td>-87.682642</td>\n",
       "      <td>(41.834522994, -87.682642417)</td>\n",
       "    </tr>\n",
       "    <tr>\n",
       "      <th>20</th>\n",
       "      <td>15214</td>\n",
       "      <td>4809221</td>\n",
       "      <td>HM423298</td>\n",
       "      <td>2001-06-16 08:00:00</td>\n",
       "      <td>063XX S DAMEN AVE</td>\n",
       "      <td>1754</td>\n",
       "      <td>OFFENSE INVOLVING CHILDREN</td>\n",
       "      <td>AGG SEX ASSLT OF CHILD FAM MBR</td>\n",
       "      <td>RESIDENCE</td>\n",
       "      <td>True</td>\n",
       "      <td>...</td>\n",
       "      <td>15.0</td>\n",
       "      <td>67.0</td>\n",
       "      <td>02</td>\n",
       "      <td>1164076.0</td>\n",
       "      <td>1862580.0</td>\n",
       "      <td>2001</td>\n",
       "      <td>08/05/2006 04:48:25 AM</td>\n",
       "      <td>41.778539988</td>\n",
       "      <td>-87.674036</td>\n",
       "      <td>(41.778539988, -87.674035599)</td>\n",
       "    </tr>\n",
       "    <tr>\n",
       "      <th>25</th>\n",
       "      <td>16594</td>\n",
       "      <td>4811727</td>\n",
       "      <td>HM402010</td>\n",
       "      <td>2001-06-01 08:00:00</td>\n",
       "      <td>054XX W IOWA ST</td>\n",
       "      <td>1563</td>\n",
       "      <td>SEX OFFENSE</td>\n",
       "      <td>CRIMINAL SEXUAL ABUSE</td>\n",
       "      <td>RESIDENCE</td>\n",
       "      <td>False</td>\n",
       "      <td>...</td>\n",
       "      <td>37.0</td>\n",
       "      <td>25.0</td>\n",
       "      <td>17</td>\n",
       "      <td>1139668.0</td>\n",
       "      <td>1905504.0</td>\n",
       "      <td>2001</td>\n",
       "      <td>06/22/2006 03:55:52 AM</td>\n",
       "      <td>41.896808547</td>\n",
       "      <td>-87.762472</td>\n",
       "      <td>(41.896808547, -87.762472408)</td>\n",
       "    </tr>\n",
       "    <tr>\n",
       "      <th>...</th>\n",
       "      <td>...</td>\n",
       "      <td>...</td>\n",
       "      <td>...</td>\n",
       "      <td>...</td>\n",
       "      <td>...</td>\n",
       "      <td>...</td>\n",
       "      <td>...</td>\n",
       "      <td>...</td>\n",
       "      <td>...</td>\n",
       "      <td>...</td>\n",
       "      <td>...</td>\n",
       "      <td>...</td>\n",
       "      <td>...</td>\n",
       "      <td>...</td>\n",
       "      <td>...</td>\n",
       "      <td>...</td>\n",
       "      <td>...</td>\n",
       "      <td>...</td>\n",
       "      <td>...</td>\n",
       "      <td>...</td>\n",
       "      <td>...</td>\n",
       "    </tr>\n",
       "    <tr>\n",
       "      <th>1923493</th>\n",
       "      <td>6246515</td>\n",
       "      <td>4771567</td>\n",
       "      <td>HM384838</td>\n",
       "      <td>2001-01-01 00:01:00</td>\n",
       "      <td>048XX N PAULINA ST</td>\n",
       "      <td>0840</td>\n",
       "      <td>THEFT</td>\n",
       "      <td>FINANCIAL ID THEFT: OVER $300</td>\n",
       "      <td>RESIDENCE</td>\n",
       "      <td>False</td>\n",
       "      <td>...</td>\n",
       "      <td>47.0</td>\n",
       "      <td>3.0</td>\n",
       "      <td>06</td>\n",
       "      <td>1164385.0</td>\n",
       "      <td>1932578.0</td>\n",
       "      <td>2001</td>\n",
       "      <td>06/07/2006 04:08:49 AM</td>\n",
       "      <td>41.970613961</td>\n",
       "      <td>-87.670922</td>\n",
       "      <td>(41.970613961, -87.670922333)</td>\n",
       "    </tr>\n",
       "    <tr>\n",
       "      <th>1923499</th>\n",
       "      <td>6248646</td>\n",
       "      <td>4774932</td>\n",
       "      <td>HM388575</td>\n",
       "      <td>2001-03-31 00:00:00</td>\n",
       "      <td>010XX E 73RD ST</td>\n",
       "      <td>0840</td>\n",
       "      <td>THEFT</td>\n",
       "      <td>FINANCIAL ID THEFT: OVER $300</td>\n",
       "      <td>RESIDENCE</td>\n",
       "      <td>False</td>\n",
       "      <td>...</td>\n",
       "      <td>5.0</td>\n",
       "      <td>69.0</td>\n",
       "      <td>06</td>\n",
       "      <td>1184535.0</td>\n",
       "      <td>1856867.0</td>\n",
       "      <td>2001</td>\n",
       "      <td>06/10/2006 03:42:52 AM</td>\n",
       "      <td>41.762408071</td>\n",
       "      <td>-87.599211</td>\n",
       "      <td>(41.762408071, -87.599210982)</td>\n",
       "    </tr>\n",
       "    <tr>\n",
       "      <th>1923504</th>\n",
       "      <td>6249542</td>\n",
       "      <td>4776541</td>\n",
       "      <td>HM386979</td>\n",
       "      <td>2001-08-15 12:00:00</td>\n",
       "      <td>029XX W 58TH ST</td>\n",
       "      <td>0840</td>\n",
       "      <td>THEFT</td>\n",
       "      <td>FINANCIAL ID THEFT: OVER $300</td>\n",
       "      <td>RESIDENCE</td>\n",
       "      <td>False</td>\n",
       "      <td>...</td>\n",
       "      <td>14.0</td>\n",
       "      <td>63.0</td>\n",
       "      <td>06</td>\n",
       "      <td>1157446.0</td>\n",
       "      <td>1865991.0</td>\n",
       "      <td>2001</td>\n",
       "      <td>06/13/2006 03:45:29 AM</td>\n",
       "      <td>41.788037177</td>\n",
       "      <td>-87.698249</td>\n",
       "      <td>(41.788037177, -87.698249401)</td>\n",
       "    </tr>\n",
       "    <tr>\n",
       "      <th>1923510</th>\n",
       "      <td>6252586</td>\n",
       "      <td>4781176</td>\n",
       "      <td>HM386461</td>\n",
       "      <td>2001-04-01 09:00:00</td>\n",
       "      <td>023XX N LATROBE AVE</td>\n",
       "      <td>0841</td>\n",
       "      <td>THEFT</td>\n",
       "      <td>FINANCIAL ID THEFT:$300 &amp;UNDER</td>\n",
       "      <td>ALLEY</td>\n",
       "      <td>False</td>\n",
       "      <td>...</td>\n",
       "      <td>37.0</td>\n",
       "      <td>19.0</td>\n",
       "      <td>06</td>\n",
       "      <td>1140960.0</td>\n",
       "      <td>1915056.0</td>\n",
       "      <td>2001</td>\n",
       "      <td>06/14/2006 04:14:16 AM</td>\n",
       "      <td>41.922996623</td>\n",
       "      <td>-87.757492</td>\n",
       "      <td>(41.922996623, -87.757491503)</td>\n",
       "    </tr>\n",
       "    <tr>\n",
       "      <th>1923513</th>\n",
       "      <td>6253372</td>\n",
       "      <td>4782588</td>\n",
       "      <td>HM394550</td>\n",
       "      <td>2001-06-04 00:01:00</td>\n",
       "      <td>087XX S MUSKEGON AVE</td>\n",
       "      <td>0610</td>\n",
       "      <td>BURGLARY</td>\n",
       "      <td>FORCIBLE ENTRY</td>\n",
       "      <td>OTHER</td>\n",
       "      <td>False</td>\n",
       "      <td>...</td>\n",
       "      <td>10.0</td>\n",
       "      <td>46.0</td>\n",
       "      <td>05</td>\n",
       "      <td>1196570.0</td>\n",
       "      <td>1847474.0</td>\n",
       "      <td>2001</td>\n",
       "      <td>07/05/2006 04:01:36 AM</td>\n",
       "      <td>41.736342659</td>\n",
       "      <td>-87.555413</td>\n",
       "      <td>(41.736342659, -87.555413094)</td>\n",
       "    </tr>\n",
       "  </tbody>\n",
       "</table>\n",
       "<p>568518 rows × 23 columns</p>\n",
       "</div>"
      ],
      "text/plain": [
       "         Unnamed: 0       ID Case Number                Date  \\\n",
       "6              3756  4791194    HM403711 2001-01-01 11:00:00   \n",
       "17            10808  4803028    HM414773 2001-01-01 00:00:00   \n",
       "18            11210  4803606    HM417252 2001-01-01 00:00:00   \n",
       "20            15214  4809221    HM423298 2001-06-16 08:00:00   \n",
       "25            16594  4811727    HM402010 2001-06-01 08:00:00   \n",
       "...             ...      ...         ...                 ...   \n",
       "1923493     6246515  4771567    HM384838 2001-01-01 00:01:00   \n",
       "1923499     6248646  4774932    HM388575 2001-03-31 00:00:00   \n",
       "1923504     6249542  4776541    HM386979 2001-08-15 12:00:00   \n",
       "1923510     6252586  4781176    HM386461 2001-04-01 09:00:00   \n",
       "1923513     6253372  4782588    HM394550 2001-06-04 00:01:00   \n",
       "\n",
       "                           Block  IUCR                Primary Type  \\\n",
       "6        114XX S ST LAWRENCE AVE  0266         CRIM SEXUAL ASSAULT   \n",
       "17             055XX S TRIPP AVE  1753  OFFENSE INVOLVING CHILDREN   \n",
       "18            032XX S OAKLEY AVE  0840                       THEFT   \n",
       "20             063XX S DAMEN AVE  1754  OFFENSE INVOLVING CHILDREN   \n",
       "25               054XX W IOWA ST  1563                 SEX OFFENSE   \n",
       "...                          ...   ...                         ...   \n",
       "1923493       048XX N PAULINA ST  0840                       THEFT   \n",
       "1923499          010XX E 73RD ST  0840                       THEFT   \n",
       "1923504          029XX W 58TH ST  0840                       THEFT   \n",
       "1923510      023XX N LATROBE AVE  0841                       THEFT   \n",
       "1923513     087XX S MUSKEGON AVE  0610                    BURGLARY   \n",
       "\n",
       "                            Description Location Description  Arrest  ...  \\\n",
       "6                             PREDATORY            RESIDENCE    True  ...   \n",
       "17        SEX ASSLT OF CHILD BY FAM MBR            RESIDENCE    True  ...   \n",
       "18        FINANCIAL ID THEFT: OVER $300                OTHER   False  ...   \n",
       "20       AGG SEX ASSLT OF CHILD FAM MBR            RESIDENCE    True  ...   \n",
       "25                CRIMINAL SEXUAL ABUSE            RESIDENCE   False  ...   \n",
       "...                                 ...                  ...     ...  ...   \n",
       "1923493   FINANCIAL ID THEFT: OVER $300            RESIDENCE   False  ...   \n",
       "1923499   FINANCIAL ID THEFT: OVER $300            RESIDENCE   False  ...   \n",
       "1923504   FINANCIAL ID THEFT: OVER $300            RESIDENCE   False  ...   \n",
       "1923510  FINANCIAL ID THEFT:$300 &UNDER                ALLEY   False  ...   \n",
       "1923513                  FORCIBLE ENTRY                OTHER   False  ...   \n",
       "\n",
       "         Ward  Community Area  FBI Code  X Coordinate  Y Coordinate  Year  \\\n",
       "6         9.0            50.0        02     1182247.0     1829375.0  2001   \n",
       "17       13.0            62.0        02     1149024.0     1867199.0  2001   \n",
       "18       12.0            59.0        06     1161574.0     1882962.0  2001   \n",
       "20       15.0            67.0        02     1164076.0     1862580.0  2001   \n",
       "25       37.0            25.0        17     1139668.0     1905504.0  2001   \n",
       "...       ...             ...       ...           ...           ...   ...   \n",
       "1923493  47.0             3.0        06     1164385.0     1932578.0  2001   \n",
       "1923499   5.0            69.0        06     1184535.0     1856867.0  2001   \n",
       "1923504  14.0            63.0        06     1157446.0     1865991.0  2001   \n",
       "1923510  37.0            19.0        06     1140960.0     1915056.0  2001   \n",
       "1923513  10.0            46.0        05     1196570.0     1847474.0  2001   \n",
       "\n",
       "                     Updated On      Latitude  Longitude  \\\n",
       "6        08/29/2006 03:46:28 AM  41.687020002 -87.608445   \n",
       "17       10/03/2006 05:10:58 AM  41.791518681 -87.729099   \n",
       "18       06/25/2006 04:27:37 AM  41.834522994 -87.682642   \n",
       "20       08/05/2006 04:48:25 AM  41.778539988 -87.674036   \n",
       "25       06/22/2006 03:55:52 AM  41.896808547 -87.762472   \n",
       "...                         ...           ...        ...   \n",
       "1923493  06/07/2006 04:08:49 AM  41.970613961 -87.670922   \n",
       "1923499  06/10/2006 03:42:52 AM  41.762408071 -87.599211   \n",
       "1923504  06/13/2006 03:45:29 AM  41.788037177 -87.698249   \n",
       "1923510  06/14/2006 04:14:16 AM  41.922996623 -87.757492   \n",
       "1923513  07/05/2006 04:01:36 AM  41.736342659 -87.555413   \n",
       "\n",
       "                              Location  \n",
       "6         (41.687020002, -87.60844523)  \n",
       "17       (41.791518681, -87.729098793)  \n",
       "18       (41.834522994, -87.682642417)  \n",
       "20       (41.778539988, -87.674035599)  \n",
       "25       (41.896808547, -87.762472408)  \n",
       "...                                ...  \n",
       "1923493  (41.970613961, -87.670922333)  \n",
       "1923499  (41.762408071, -87.599210982)  \n",
       "1923504  (41.788037177, -87.698249401)  \n",
       "1923510  (41.922996623, -87.757491503)  \n",
       "1923513  (41.736342659, -87.555413094)  \n",
       "\n",
       "[568518 rows x 23 columns]"
      ]
     },
     "execution_count": 27,
     "metadata": {},
     "output_type": "execute_result"
    }
   ],
   "source": [
    "df_2001"
   ]
  },
  {
   "cell_type": "code",
   "execution_count": 28,
   "id": "da62f988",
   "metadata": {},
   "outputs": [
    {
     "data": {
      "text/plain": [
       "<AxesSubplot:>"
      ]
     },
     "execution_count": 28,
     "metadata": {},
     "output_type": "execute_result"
    },
    {
     "data": {
      "image/png": "[encoded data removed]",
      "text/plain": [
       "<Figure size 432x288 with 1 Axes>"
      ]
     },
     "metadata": {
      "needs_background": "light"
     },
     "output_type": "display_data"
    }
   ],
   "source": [
    "df_2001['Primary Type'].value_counts().plot(kind='bar',edgecolor='green',color='black')#CRIME RATE 2001"
   ]
  },
  {
   "cell_type": "code",
   "execution_count": 29,
   "id": "19a299d9",
   "metadata": {},
   "outputs": [
    {
     "data": {
      "text/plain": [
       "<AxesSubplot:>"
      ]
     },
     "execution_count": 29,
     "metadata": {},
     "output_type": "execute_result"
    },
    {
     "data": {
      "image/png": "[encoded data removed]",
      "text/plain": [
       "<Figure size 432x288 with 1 Axes>"
      ]
     },
     "metadata": {
      "needs_background": "light"
     },
     "output_type": "display_data"
    }
   ],
   "source": [
    "df_2002['Primary Type'].value_counts().plot(kind='bar',edgecolor='blue',color='black')# CRIME RATE 2002"
   ]
  },
  {
   "cell_type": "code",
   "execution_count": 30,
   "id": "c807d498",
   "metadata": {},
   "outputs": [
    {
     "data": {
      "text/plain": [
       "<AxesSubplot:>"
      ]
     },
     "execution_count": 30,
     "metadata": {},
     "output_type": "execute_result"
    },
    {
     "data": {
      "image/png": "[encoded data removed]",
      "text/plain": [
       "<Figure size 432x288 with 1 Axes>"
      ]
     },
     "metadata": {
      "needs_background": "light"
     },
     "output_type": "display_data"
    }
   ],
   "source": [
    "df_2003['Primary Type'].value_counts().plot(kind='bar',edgecolor='violet',color='Red') #CRIME RATE 2003"
   ]
  },
  {
   "cell_type": "code",
   "execution_count": 31,
   "id": "8864a053",
   "metadata": {},
   "outputs": [
    {
     "data": {
      "text/plain": [
       "<AxesSubplot:>"
      ]
     },
     "execution_count": 31,
     "metadata": {},
     "output_type": "execute_result"
    },
    {
     "data": {
      "image/png": "[encoded data removed]",
      "text/plain": [
       "<Figure size 432x288 with 1 Axes>"
      ]
     },
     "metadata": {
      "needs_background": "light"
     },
     "output_type": "display_data"
    }
   ],
   "source": [
    "df_2004['Primary Type'].value_counts().plot(kind='bar',edgecolor='brown',color='green')# CRIME RATE 2004"
   ]
  },
  {
   "cell_type": "code",
   "execution_count": 32,
   "id": "629f2058",
   "metadata": {},
   "outputs": [
    {
     "data": {
      "text/plain": [
       "Index(['Unnamed: 0', 'ID', 'Case Number', 'Date', 'Block', 'IUCR',\n",
       "       'Primary Type', 'Description', 'Location Description', 'Arrest',\n",
       "       'Domestic', 'Beat', 'District', 'Ward', 'Community Area', 'FBI Code',\n",
       "       'X Coordinate', 'Y Coordinate', 'Year', 'Updated On', 'Latitude',\n",
       "       'Longitude', 'Location'],\n",
       "      dtype='object')"
      ]
     },
     "execution_count": 32,
     "metadata": {},
     "output_type": "execute_result"
    }
   ],
   "source": [
    "data.columns"
   ]
  },
  {
   "cell_type": "code",
   "execution_count": 33,
   "id": "e53145cf",
   "metadata": {},
   "outputs": [
    {
     "data": {
      "text/plain": [
       "0           424\n",
       "1           935\n",
       "2          1413\n",
       "3          2521\n",
       "4          2233\n",
       "           ... \n",
       "1923510    2515\n",
       "1923511    1622\n",
       "1923512     614\n",
       "1923513     423\n",
       "1923514     321\n",
       "Name: Beat, Length: 1923515, dtype: int64"
      ]
     },
     "execution_count": 33,
     "metadata": {},
     "output_type": "execute_result"
    }
   ],
   "source": [
    "data['Beat']"
   ]
  },
  {
   "cell_type": "markdown",
   "id": "3e1676dc",
   "metadata": {},
   "source": [
    "**GOING TO PREDICT CRIME TYPE(PRIMARY TYPE). DESCRIPTION,ARREST, DOMESTIC AND BEAT WOULD BE OUR INDEPENDENT VARIABLE WHICH WILL PREDICT**"
   ]
  },
  {
   "cell_type": "code",
   "execution_count": 34,
   "id": "5c73fbda",
   "metadata": {},
   "outputs": [],
   "source": [
    "# GOING TO CHECK WHAETHER IS THERE ANY OUTLIER IN DATA SET OR NOT\n",
    "def outlier(data):\n",
    "    threshold=3\n",
    "    mean_1 = np.mean(data)\n",
    "    std_1 =np.std(data)\n",
    "    K=[]\n",
    "    \n",
    "    for y in data:\n",
    "        z_score= (y - mean_1)/std_1 \n",
    "        if np.abs(z_score) > threshold:\n",
    "            outliers.append(K)\n",
    "    print(K)\n",
    "\n"
   ]
  },
  {
   "cell_type": "code",
   "execution_count": 35,
   "id": "f66d77ac",
   "metadata": {},
   "outputs": [
    {
     "name": "stdout",
     "output_type": "stream",
     "text": [
      "[]\n"
     ]
    }
   ],
   "source": [
    "outliers=outlier(data['Beat'])"
   ]
  },
  {
   "cell_type": "code",
   "execution_count": 36,
   "id": "b5483005",
   "metadata": {},
   "outputs": [
    {
     "name": "stderr",
     "output_type": "stream",
     "text": [
      "C:\\Users\\Taimoor\\AppData\\Local\\Programs\\Python\\Python310\\lib\\site-packages\\seaborn\\_decorators.py:36: FutureWarning: Pass the following variable as a keyword arg: x. From version 0.12, the only valid positional argument will be `data`, and passing other arguments without an explicit keyword will result in an error or misinterpretation.\n",
      "  warnings.warn(\n"
     ]
    },
    {
     "data": {
      "text/plain": [
       "<AxesSubplot:xlabel='Beat'>"
      ]
     },
     "execution_count": 36,
     "metadata": {},
     "output_type": "execute_result"
    },
    {
     "data": {
      "image/png": "[encoded data removed]",
      "text/plain": [
       "<Figure size 432x288 with 1 Axes>"
      ]
     },
     "metadata": {
      "needs_background": "light"
     },
     "output_type": "display_data"
    }
   ],
   "source": [
    "#LETS CHECK WITH GRAPH AS WELL\n",
    "sns.boxplot(data['Beat']) "
   ]
  },
  {
   "cell_type": "code",
   "execution_count": 37,
   "id": "1f187c5f",
   "metadata": {},
   "outputs": [
    {
     "data": {
      "text/plain": [
       "Index(['Unnamed: 0', 'ID', 'Case Number', 'Date', 'Block', 'IUCR',\n",
       "       'Primary Type', 'Description', 'Location Description', 'Arrest',\n",
       "       'Domestic', 'Beat', 'District', 'Ward', 'Community Area', 'FBI Code',\n",
       "       'X Coordinate', 'Y Coordinate', 'Year', 'Updated On', 'Latitude',\n",
       "       'Longitude', 'Location'],\n",
       "      dtype='object')"
      ]
     },
     "execution_count": 37,
     "metadata": {},
     "output_type": "execute_result"
    }
   ],
   "source": [
    "data.columns"
   ]
  },
  {
   "cell_type": "code",
   "execution_count": 38,
   "id": "5c82e224",
   "metadata": {},
   "outputs": [],
   "source": [
    "from sklearn.preprocessing import LabelEncoder\n",
    "cols = ['Description']\n",
    "le = LabelEncoder()\n",
    "for col in cols:\n",
    "    data[col] = le.fit_transform(data[col])"
   ]
  },
  {
   "cell_type": "code",
   "execution_count": 39,
   "id": "3e180087",
   "metadata": {},
   "outputs": [],
   "source": [
    "from sklearn.preprocessing import LabelEncoder\n",
    "cols = ['Primary Type']\n",
    "le = LabelEncoder()\n",
    "for col in cols:\n",
    "    data[col] = le.fit_transform(data[col])"
   ]
  },
  {
   "cell_type": "code",
   "execution_count": 40,
   "id": "513de6e9",
   "metadata": {},
   "outputs": [
    {
     "data": {
      "text/plain": [
       "0    29\n",
       "1    21\n",
       "2    19\n",
       "3    29\n",
       "4    29\n",
       "Name: Primary Type, dtype: int32"
      ]
     },
     "execution_count": 40,
     "metadata": {},
     "output_type": "execute_result"
    }
   ],
   "source": [
    "data[col].head(5)"
   ]
  },
  {
   "cell_type": "code",
   "execution_count": 41,
   "id": "523f8285",
   "metadata": {},
   "outputs": [
    {
     "data": {
      "text/plain": [
       "array([141, 160,   4, 142, 259, 226, 154, 279,  18,  81, 228, 117, 153,\n",
       "        68, 113,   5, 150, 285,  41,  19, 148, 295, 210, 224, 101, 321,\n",
       "        59, 140, 130, 300,  42,  40, 260, 137, 193, 246, 158, 200, 290,\n",
       "       249, 164, 247, 116, 195, 152, 288, 253, 248,   1, 159,  28, 272,\n",
       "       126, 168, 114, 111, 284, 102, 214, 172, 315, 311, 307, 118, 312,\n",
       "        99, 220,  64,  22,  84,  73, 296, 306, 174, 261, 115,  57,  82,\n",
       "       298, 146, 221, 120,  52, 281, 263, 283,  43, 144,  61, 143, 213,\n",
       "       316, 318,  88,  69,  67,  45,   7, 293,  51,  39, 192,  72, 149,\n",
       "        48, 336, 299,  20, 100,  75,  77, 187,  36, 333, 233, 310, 176,\n",
       "        54, 292,  93, 165,  58, 265, 328, 330, 112, 309, 280, 242, 132,\n",
       "        76, 278,  70,  56, 177, 324,  80, 232, 185, 334, 320, 275, 199,\n",
       "       286, 257,  44, 138, 212, 198,  34,  60, 182,  55, 264, 308, 256,\n",
       "       304,  92, 236, 139, 196, 271, 169, 332,  30,  78, 302, 329, 325,\n",
       "        53,  89, 319, 217, 234, 317, 240, 251,  16, 161, 255, 127,  63,\n",
       "       250, 252,  10,  35,  96, 327, 202, 190,  94, 157, 254, 197, 211,\n",
       "        17, 110, 245, 207, 229, 167,  38, 178, 203, 156, 206, 181,  62,\n",
       "         9, 301, 297, 289, 194, 219, 287, 305, 218, 244, 204, 215, 133,\n",
       "        12,  37, 235, 338, 170, 222,  65, 322, 186, 270,  91, 188, 201,\n",
       "       227,  90, 223, 171, 239, 335, 124, 131, 276,  79,  71,  15, 106,\n",
       "       268, 237,   0, 123, 147, 337,  27, 243,  24, 122, 282,  87, 175,\n",
       "        86,  11, 303, 191,  32,  50,  98,  66,  49,  31, 166, 105, 258,\n",
       "       163, 294, 277, 104, 155, 173, 125, 262, 216, 225,  47, 313, 109,\n",
       "        33, 121, 134, 145, 314, 274,   3,  85, 238, 266, 103, 184,  97,\n",
       "       128,  13,   2, 162, 151, 323, 180, 183,  83, 241, 267, 129, 231,\n",
       "       179,  23, 230, 108, 136,   6, 107,  21, 273,  26,  25,   8,  46,\n",
       "        29, 119,  95, 135, 291, 326, 209,  74, 205, 269,  14, 331, 208,\n",
       "       189])"
      ]
     },
     "execution_count": 41,
     "metadata": {},
     "output_type": "execute_result"
    }
   ],
   "source": [
    "data['Description'].unique()"
   ]
  },
  {
   "cell_type": "code",
   "execution_count": 42,
   "id": "63fcdfa4",
   "metadata": {},
   "outputs": [],
   "source": [
    "data['Crime Type']=data['Primary Type']"
   ]
  },
  {
   "cell_type": "code",
   "execution_count": 43,
   "id": "b9f67a2a",
   "metadata": {},
   "outputs": [],
   "source": [
    "df=data[['Description','Beat','Arrest','Domestic','Crime Type']]"
   ]
  },
  {
   "cell_type": "code",
   "execution_count": 44,
   "id": "47402027",
   "metadata": {},
   "outputs": [
    {
     "data": {
      "text/html": [
       "<div>\n",
       "<style scoped>\n",
       "    .dataframe tbody tr th:only-of-type {\n",
       "        vertical-align: middle;\n",
       "    }\n",
       "\n",
       "    .dataframe tbody tr th {\n",
       "        vertical-align: top;\n",
       "    }\n",
       "\n",
       "    .dataframe thead th {\n",
       "        text-align: right;\n",
       "    }\n",
       "</style>\n",
       "<table border=\"1\" class=\"dataframe\">\n",
       "  <thead>\n",
       "    <tr style=\"text-align: right;\">\n",
       "      <th></th>\n",
       "      <th>Description</th>\n",
       "      <th>Beat</th>\n",
       "      <th>Arrest</th>\n",
       "      <th>Domestic</th>\n",
       "      <th>Crime Type</th>\n",
       "    </tr>\n",
       "  </thead>\n",
       "  <tbody>\n",
       "    <tr>\n",
       "      <th>0</th>\n",
       "      <td>141</td>\n",
       "      <td>424</td>\n",
       "      <td>False</td>\n",
       "      <td>False</td>\n",
       "      <td>29</td>\n",
       "    </tr>\n",
       "    <tr>\n",
       "      <th>1</th>\n",
       "      <td>160</td>\n",
       "      <td>935</td>\n",
       "      <td>False</td>\n",
       "      <td>True</td>\n",
       "      <td>21</td>\n",
       "    </tr>\n",
       "    <tr>\n",
       "      <th>2</th>\n",
       "      <td>4</td>\n",
       "      <td>1413</td>\n",
       "      <td>False</td>\n",
       "      <td>False</td>\n",
       "      <td>19</td>\n",
       "    </tr>\n",
       "    <tr>\n",
       "      <th>3</th>\n",
       "      <td>141</td>\n",
       "      <td>2521</td>\n",
       "      <td>False</td>\n",
       "      <td>False</td>\n",
       "      <td>29</td>\n",
       "    </tr>\n",
       "    <tr>\n",
       "      <th>4</th>\n",
       "      <td>142</td>\n",
       "      <td>2233</td>\n",
       "      <td>False</td>\n",
       "      <td>False</td>\n",
       "      <td>29</td>\n",
       "    </tr>\n",
       "    <tr>\n",
       "      <th>...</th>\n",
       "      <td>...</td>\n",
       "      <td>...</td>\n",
       "      <td>...</td>\n",
       "      <td>...</td>\n",
       "      <td>...</td>\n",
       "    </tr>\n",
       "    <tr>\n",
       "      <th>1923510</th>\n",
       "      <td>142</td>\n",
       "      <td>2515</td>\n",
       "      <td>False</td>\n",
       "      <td>False</td>\n",
       "      <td>29</td>\n",
       "    </tr>\n",
       "    <tr>\n",
       "      <th>1923511</th>\n",
       "      <td>141</td>\n",
       "      <td>1622</td>\n",
       "      <td>False</td>\n",
       "      <td>False</td>\n",
       "      <td>29</td>\n",
       "    </tr>\n",
       "    <tr>\n",
       "      <th>1923512</th>\n",
       "      <td>141</td>\n",
       "      <td>614</td>\n",
       "      <td>False</td>\n",
       "      <td>False</td>\n",
       "      <td>29</td>\n",
       "    </tr>\n",
       "    <tr>\n",
       "      <th>1923513</th>\n",
       "      <td>148</td>\n",
       "      <td>423</td>\n",
       "      <td>False</td>\n",
       "      <td>False</td>\n",
       "      <td>3</td>\n",
       "    </tr>\n",
       "    <tr>\n",
       "      <th>1923514</th>\n",
       "      <td>141</td>\n",
       "      <td>321</td>\n",
       "      <td>False</td>\n",
       "      <td>False</td>\n",
       "      <td>29</td>\n",
       "    </tr>\n",
       "  </tbody>\n",
       "</table>\n",
       "<p>1923515 rows × 5 columns</p>\n",
       "</div>"
      ],
      "text/plain": [
       "         Description  Beat  Arrest  Domestic  Crime Type\n",
       "0                141   424   False     False          29\n",
       "1                160   935   False      True          21\n",
       "2                  4  1413   False     False          19\n",
       "3                141  2521   False     False          29\n",
       "4                142  2233   False     False          29\n",
       "...              ...   ...     ...       ...         ...\n",
       "1923510          142  2515   False     False          29\n",
       "1923511          141  1622   False     False          29\n",
       "1923512          141   614   False     False          29\n",
       "1923513          148   423   False     False           3\n",
       "1923514          141   321   False     False          29\n",
       "\n",
       "[1923515 rows x 5 columns]"
      ]
     },
     "execution_count": 44,
     "metadata": {},
     "output_type": "execute_result"
    }
   ],
   "source": [
    "df"
   ]
  },
  {
   "cell_type": "code",
   "execution_count": 45,
   "id": "ed390b63",
   "metadata": {},
   "outputs": [],
   "source": [
    "import scipy.stats as stats"
   ]
  },
  {
   "cell_type": "code",
   "execution_count": 46,
   "id": "793d9c16",
   "metadata": {},
   "outputs": [],
   "source": [
    "X = df.drop(columns=['Crime Type'], axis=1)\n",
    "y = df['Crime Type']\n"
   ]
  },
  {
   "cell_type": "code",
   "execution_count": 47,
   "id": "e9cf9ad0",
   "metadata": {},
   "outputs": [
    {
     "data": {
      "image/png": "[encoded data removed]",
      "text/plain": [
       "<Figure size 1440x720 with 2 Axes>"
      ]
     },
     "metadata": {
      "needs_background": "light"
     },
     "output_type": "display_data"
    }
   ],
   "source": [
    "\n",
    "#Using Pearson Correlation\n",
    "plt.figure(figsize=(20,10))\n",
    "cor = df.corr()\n",
    "sns.heatmap(cor, annot=True, cmap=plt.cm.Reds)\n",
    "plt.show()"
   ]
  },
  {
   "cell_type": "code",
   "execution_count": 48,
   "id": "438e2dab",
   "metadata": {},
   "outputs": [
    {
     "data": {
      "text/html": [
       "<div>\n",
       "<style scoped>\n",
       "    .dataframe tbody tr th:only-of-type {\n",
       "        vertical-align: middle;\n",
       "    }\n",
       "\n",
       "    .dataframe tbody tr th {\n",
       "        vertical-align: top;\n",
       "    }\n",
       "\n",
       "    .dataframe thead th {\n",
       "        text-align: right;\n",
       "    }\n",
       "</style>\n",
       "<table border=\"1\" class=\"dataframe\">\n",
       "  <thead>\n",
       "    <tr style=\"text-align: right;\">\n",
       "      <th></th>\n",
       "      <th>Description</th>\n",
       "      <th>Beat</th>\n",
       "      <th>Arrest</th>\n",
       "      <th>Domestic</th>\n",
       "      <th>Crime Type</th>\n",
       "    </tr>\n",
       "  </thead>\n",
       "  <tbody>\n",
       "    <tr>\n",
       "      <th>Description</th>\n",
       "      <td>1.000000</td>\n",
       "      <td>-0.006520</td>\n",
       "      <td>0.144942</td>\n",
       "      <td>0.024966</td>\n",
       "      <td>-0.354287</td>\n",
       "    </tr>\n",
       "    <tr>\n",
       "      <th>Beat</th>\n",
       "      <td>-0.006520</td>\n",
       "      <td>1.000000</td>\n",
       "      <td>-0.009787</td>\n",
       "      <td>-0.033114</td>\n",
       "      <td>0.051726</td>\n",
       "    </tr>\n",
       "    <tr>\n",
       "      <th>Arrest</th>\n",
       "      <td>0.144942</td>\n",
       "      <td>-0.009787</td>\n",
       "      <td>1.000000</td>\n",
       "      <td>-0.073299</td>\n",
       "      <td>0.025282</td>\n",
       "    </tr>\n",
       "    <tr>\n",
       "      <th>Domestic</th>\n",
       "      <td>0.024966</td>\n",
       "      <td>-0.033114</td>\n",
       "      <td>-0.073299</td>\n",
       "      <td>1.000000</td>\n",
       "      <td>-0.235083</td>\n",
       "    </tr>\n",
       "    <tr>\n",
       "      <th>Crime Type</th>\n",
       "      <td>-0.354287</td>\n",
       "      <td>0.051726</td>\n",
       "      <td>0.025282</td>\n",
       "      <td>-0.235083</td>\n",
       "      <td>1.000000</td>\n",
       "    </tr>\n",
       "  </tbody>\n",
       "</table>\n",
       "</div>"
      ],
      "text/plain": [
       "             Description      Beat    Arrest  Domestic  Crime Type\n",
       "Description     1.000000 -0.006520  0.144942  0.024966   -0.354287\n",
       "Beat           -0.006520  1.000000 -0.009787 -0.033114    0.051726\n",
       "Arrest          0.144942 -0.009787  1.000000 -0.073299    0.025282\n",
       "Domestic        0.024966 -0.033114 -0.073299  1.000000   -0.235083\n",
       "Crime Type     -0.354287  0.051726  0.025282 -0.235083    1.000000"
      ]
     },
     "execution_count": 48,
     "metadata": {},
     "output_type": "execute_result"
    }
   ],
   "source": [
    "df.corr()"
   ]
  },
  {
   "cell_type": "code",
   "execution_count": 49,
   "id": "93c383df",
   "metadata": {},
   "outputs": [],
   "source": [
    "from sklearn.model_selection import train_test_split\n",
    "x_train, x_test, y_train, y_test = train_test_split(X, y, test_size=0.25, random_state=42)"
   ]
  },
  {
   "cell_type": "code",
   "execution_count": 50,
   "id": "4b57db0e",
   "metadata": {},
   "outputs": [],
   "source": [
    "from sklearn.model_selection import cross_val_score\n",
    "def classify(model, x, y):\n",
    "    x_train, x_test, y_train, y_test = train_test_split(X, y, test_size=0.25, random_state=42)\n",
    "    model.fit(x_train, y_train)\n",
    "    print(\"Accuracy is\", model.score(x_test, y_test)*100)\n",
    "    # cross validation - it is used for better validation of model\n",
    "    # eg: cv-5, train-4, test-1\n",
    "    score = cross_val_score(model, x, y, cv=5)\n",
    "    print(\"Cross validation is\",np.mean(score)*100)"
   ]
  },
  {
   "cell_type": "code",
   "execution_count": 51,
   "id": "35cf8992",
   "metadata": {},
   "outputs": [
    {
     "name": "stdout",
     "output_type": "stream",
     "text": [
      "Accuracy is 93.57697050609404\n"
     ]
    },
    {
     "name": "stderr",
     "output_type": "stream",
     "text": [
      "C:\\Users\\Taimoor\\AppData\\Local\\Programs\\Python\\Python310\\lib\\site-packages\\sklearn\\model_selection\\_split.py:680: UserWarning: The least populated class in y has only 1 members, which is less than n_splits=5.\n",
      "  warnings.warn(\n"
     ]
    },
    {
     "name": "stdout",
     "output_type": "stream",
     "text": [
      "Cross validation is 93.53293319781754\n"
     ]
    }
   ],
   "source": [
    "from sklearn.tree import DecisionTreeClassifier\n",
    "model = DecisionTreeClassifier()\n",
    "classify(model, X, y)"
   ]
  },
  {
   "cell_type": "code",
   "execution_count": 57,
   "id": "3f05f1aa",
   "metadata": {},
   "outputs": [],
   "source": [
    "y_pred=model.predict(X)"
   ]
  },
  {
   "cell_type": "code",
   "execution_count": 58,
   "id": "cbdb5083",
   "metadata": {},
   "outputs": [
    {
     "data": {
      "text/plain": [
       "array([29, 21, 19, ..., 29,  3, 29])"
      ]
     },
     "execution_count": 58,
     "metadata": {},
     "output_type": "execute_result"
    }
   ],
   "source": [
    "y_pred"
   ]
  },
  {
   "cell_type": "code",
   "execution_count": 55,
   "id": "fb4e694d",
   "metadata": {},
   "outputs": [],
   "source": [
    "from sklearn.metrics import accuracy_score,classification_report,confusion_matrix\n",
    "from sklearn.metrics import r2_score\n",
    "from sklearn.metrics import mean_squared_error"
   ]
  },
  {
   "cell_type": "code",
   "execution_count": 60,
   "id": "b76dcde4",
   "metadata": {},
   "outputs": [
    {
     "data": {
      "text/html": [
       "<style>#sk-container-id-1 {color: black;background-color: white;}#sk-container-id-1 pre{padding: 0;}#sk-container-id-1 div.sk-toggleable {background-color: white;}#sk-container-id-1 label.sk-toggleable__label {cursor: pointer;display: block;width: 100%;margin-bottom: 0;padding: 0.3em;box-sizing: border-box;text-align: center;}#sk-container-id-1 label.sk-toggleable__label-arrow:before {content: \"▸\";float: left;margin-right: 0.25em;color: #696969;}#sk-container-id-1 label.sk-toggleable__label-arrow:hover:before {color: black;}#sk-container-id-1 div.sk-estimator:hover label.sk-toggleable__label-arrow:before {color: black;}#sk-container-id-1 div.sk-toggleable__content {max-height: 0;max-width: 0;overflow: hidden;text-align: left;background-color: #f0f8ff;}#sk-container-id-1 div.sk-toggleable__content pre {margin: 0.2em;color: black;border-radius: 0.25em;background-color: #f0f8ff;}#sk-container-id-1 input.sk-toggleable__control:checked~div.sk-toggleable__content {max-height: 200px;max-width: 100%;overflow: auto;}#sk-container-id-1 input.sk-toggleable__control:checked~label.sk-toggleable__label-arrow:before {content: \"▾\";}#sk-container-id-1 div.sk-estimator input.sk-toggleable__control:checked~label.sk-toggleable__label {background-color: #d4ebff;}#sk-container-id-1 div.sk-label input.sk-toggleable__control:checked~label.sk-toggleable__label {background-color: #d4ebff;}#sk-container-id-1 input.sk-hidden--visually {border: 0;clip: rect(1px 1px 1px 1px);clip: rect(1px, 1px, 1px, 1px);height: 1px;margin: -1px;overflow: hidden;padding: 0;position: absolute;width: 1px;}#sk-container-id-1 div.sk-estimator {font-family: monospace;background-color: #f0f8ff;border: 1px dotted black;border-radius: 0.25em;box-sizing: border-box;margin-bottom: 0.5em;}#sk-container-id-1 div.sk-estimator:hover {background-color: #d4ebff;}#sk-container-id-1 div.sk-parallel-item::after {content: \"\";width: 100%;border-bottom: 1px solid gray;flex-grow: 1;}#sk-container-id-1 div.sk-label:hover label.sk-toggleable__label {background-color: #d4ebff;}#sk-container-id-1 div.sk-serial::before {content: \"\";position: absolute;border-left: 1px solid gray;box-sizing: border-box;top: 0;bottom: 0;left: 50%;z-index: 0;}#sk-container-id-1 div.sk-serial {display: flex;flex-direction: column;align-items: center;background-color: white;padding-right: 0.2em;padding-left: 0.2em;position: relative;}#sk-container-id-1 div.sk-item {position: relative;z-index: 1;}#sk-container-id-1 div.sk-parallel {display: flex;align-items: stretch;justify-content: center;background-color: white;position: relative;}#sk-container-id-1 div.sk-item::before, #sk-container-id-1 div.sk-parallel-item::before {content: \"\";position: absolute;border-left: 1px solid gray;box-sizing: border-box;top: 0;bottom: 0;left: 50%;z-index: -1;}#sk-container-id-1 div.sk-parallel-item {display: flex;flex-direction: column;z-index: 1;position: relative;background-color: white;}#sk-container-id-1 div.sk-parallel-item:first-child::after {align-self: flex-end;width: 50%;}#sk-container-id-1 div.sk-parallel-item:last-child::after {align-self: flex-start;width: 50%;}#sk-container-id-1 div.sk-parallel-item:only-child::after {width: 0;}#sk-container-id-1 div.sk-dashed-wrapped {border: 1px dashed gray;margin: 0 0.4em 0.5em 0.4em;box-sizing: border-box;padding-bottom: 0.4em;background-color: white;}#sk-container-id-1 div.sk-label label {font-family: monospace;font-weight: bold;display: inline-block;line-height: 1.2em;}#sk-container-id-1 div.sk-label-container {text-align: center;}#sk-container-id-1 div.sk-container {/* jupyter's `normalize.less` sets `[hidden] { display: none; }` but bootstrap.min.css set `[hidden] { display: none !important; }` so we also need the `!important` here to be able to override the default hidden behavior on the sphinx rendered scikit-learn.org. See: https://github.com/scikit-learn/scikit-learn/issues/21755 */display: inline-block !important;position: relative;}#sk-container-id-1 div.sk-text-repr-fallback {display: none;}</style><div id=\"sk-container-id-1\" class=\"sk-top-container\"><div class=\"sk-text-repr-fallback\"><pre>KNeighborsClassifier()</pre><b>In a Jupyter environment, please rerun this cell to show the HTML representation or trust the notebook. <br />On GitHub, the HTML representation is unable to render, please try loading this page with nbviewer.org.</b></div><div class=\"sk-container\" hidden><div class=\"sk-item\"><div class=\"sk-estimator sk-toggleable\"><input class=\"sk-toggleable__control sk-hidden--visually\" id=\"sk-estimator-id-1\" type=\"checkbox\" checked><label for=\"sk-estimator-id-1\" class=\"sk-toggleable__label sk-toggleable__label-arrow\">KNeighborsClassifier</label><div class=\"sk-toggleable__content\"><pre>KNeighborsClassifier()</pre></div></div></div></div></div>"
      ],
      "text/plain": [
       "KNeighborsClassifier()"
      ]
     },
     "execution_count": 60,
     "metadata": {},
     "output_type": "execute_result"
    }
   ],
   "source": [
    "from sklearn.neighbors import KNeighborsClassifier\n",
    "model=KNeighborsClassifier()\n",
    "model.fit(x_train, y_train)"
   ]
  },
  {
   "cell_type": "code",
   "execution_count": 65,
   "id": "46c8d22e",
   "metadata": {},
   "outputs": [
    {
     "name": "stdout",
     "output_type": "stream",
     "text": [
      "Accuracy is 91.69146500471012\n"
     ]
    },
    {
     "name": "stderr",
     "output_type": "stream",
     "text": [
      "C:\\Users\\Taimoor\\AppData\\Local\\Programs\\Python\\Python310\\lib\\site-packages\\sklearn\\model_selection\\_split.py:680: UserWarning: The least populated class in y has only 1 members, which is less than n_splits=5.\n",
      "  warnings.warn(\n"
     ]
    },
    {
     "name": "stdout",
     "output_type": "stream",
     "text": [
      "Cross validation is 91.68028323147986\n"
     ]
    }
   ],
   "source": [
    "model=KNeighborsClassifier(n_neighbors=3)\n",
    "classify(model, X, y)"
   ]
  },
  {
   "cell_type": "code",
   "execution_count": 61,
   "id": "e71a405d",
   "metadata": {},
   "outputs": [],
   "source": [
    "y_pred=model.predict(x_test)"
   ]
  },
  {
   "cell_type": "code",
   "execution_count": 62,
   "id": "b3a9c8f6",
   "metadata": {},
   "outputs": [
    {
     "data": {
      "text/plain": [
       "array([29, 21,  3, ...,  1, 29, 26])"
      ]
     },
     "execution_count": 62,
     "metadata": {},
     "output_type": "execute_result"
    }
   ],
   "source": [
    "y_pred"
   ]
  },
  {
   "cell_type": "code",
   "execution_count": 64,
   "id": "4b9ba810",
   "metadata": {},
   "outputs": [
    {
     "name": "stderr",
     "output_type": "stream",
     "text": [
      "C:\\Users\\Taimoor\\AppData\\Local\\Programs\\Python\\Python310\\lib\\site-packages\\sklearn\\metrics\\_classification.py:1327: UndefinedMetricWarning: Precision and F-score are ill-defined and being set to 0.0 in labels with no predicted samples. Use `zero_division` parameter to control this behavior.\n",
      "  _warn_prf(average, modifier, msg_start, len(result))\n",
      "C:\\Users\\Taimoor\\AppData\\Local\\Programs\\Python\\Python310\\lib\\site-packages\\sklearn\\metrics\\_classification.py:1327: UndefinedMetricWarning: Precision and F-score are ill-defined and being set to 0.0 in labels with no predicted samples. Use `zero_division` parameter to control this behavior.\n",
      "  _warn_prf(average, modifier, msg_start, len(result))\n"
     ]
    },
    {
     "name": "stdout",
     "output_type": "stream",
     "text": [
      "Classification Report is:\n",
      "               precision    recall  f1-score   support\n",
      "\n",
      "           0       0.87      0.81      0.84       938\n",
      "           1       0.39      0.26      0.31     30447\n",
      "           2       0.77      0.86      0.82     90824\n",
      "           3       0.99      1.00      0.99     25571\n",
      "           4       0.95      0.72      0.82      1797\n",
      "           5       0.99      1.00      0.99     55230\n",
      "           6       0.99      0.95      0.97     14424\n",
      "           7       0.98      0.97      0.98     14103\n",
      "           9       0.98      0.92      0.95      1009\n",
      "          10       0.97      0.99      0.98       755\n",
      "          11       0.85      0.62      0.72       429\n",
      "          12       0.84      0.90      0.87       333\n",
      "          13       0.90      0.66      0.76       775\n",
      "          14       0.93      0.97      0.95      1309\n",
      "          15       0.99      1.00      1.00     24671\n",
      "          16       1.00      1.00      1.00     52572\n",
      "          18       0.50      0.05      0.09        20\n",
      "          19       0.92      0.85      0.88      2861\n",
      "          20       0.00      0.00      0.00         6\n",
      "          21       0.98      0.99      0.99     30791\n",
      "          22       1.00      0.98      0.99      6363\n",
      "          23       0.00      0.00      0.00        12\n",
      "          24       0.97      0.90      0.93      2488\n",
      "          25       0.00      0.00      0.00         2\n",
      "          26       0.97      0.99      0.98     17757\n",
      "          27       0.94      0.91      0.93      2136\n",
      "          28       0.00      0.00      0.00       215\n",
      "          29       1.00      1.00      1.00     98770\n",
      "          30       0.97      0.98      0.97      4271\n",
      "\n",
      "    accuracy                           0.92    480879\n",
      "   macro avg       0.78      0.73      0.75    480879\n",
      "weighted avg       0.91      0.92      0.91    480879\n",
      "\n"
     ]
    },
    {
     "name": "stderr",
     "output_type": "stream",
     "text": [
      "C:\\Users\\Taimoor\\AppData\\Local\\Programs\\Python\\Python310\\lib\\site-packages\\sklearn\\metrics\\_classification.py:1327: UndefinedMetricWarning: Precision and F-score are ill-defined and being set to 0.0 in labels with no predicted samples. Use `zero_division` parameter to control this behavior.\n",
      "  _warn_prf(average, modifier, msg_start, len(result))\n"
     ]
    }
   ],
   "source": [
    "print(\"Classification Report is:\\n\",classification_report(y_test,y_pred))"
   ]
  },
  {
   "cell_type": "code",
   "execution_count": 67,
   "id": "9646c65a",
   "metadata": {},
   "outputs": [
    {
     "name": "stdout",
     "output_type": "stream",
     "text": [
      "Confusion Matrix:\n",
      " [[  758     0     0    15     0     0     0     0     0     0     1     0\n",
      "      3     0     0     4     0     0     0     0     2     0     0     0\n",
      "    145     0     0     8     2]\n",
      " [    0  7977 22444     0     4     0     0     0     0     0     0     0\n",
      "      0     0     0     0     0     0     0     0     0     0     0     0\n",
      "     20     2     0     0     0]\n",
      " [    3 12301 78456     0     1     0     0     0     1     0     2     0\n",
      "      0     0     0     2     0     0     0     0     0     0     0     0\n",
      "     20     2     0    36     0]\n",
      " [    0     0     0 25536     0     0     0     0     0     0     0     0\n",
      "      0    35     0     0     0     0     0     0     0     0     0     0\n",
      "      0     0     0     0     0]\n",
      " [   14   157   211    72  1291     0     0     0     0     0     0     0\n",
      "      0     0    22    29     0     0     0     0     0     0     0     0\n",
      "      0     0     0     1     0]\n",
      " [    0     0     0     0     0 55025   172     4     0     0    10     2\n",
      "      0     0     0     1     0     4     0     1     0     0     0     0\n",
      "      0    11     0     0     0]\n",
      " [    0     0     0     0     0   694 13729     0     0     0     0     0\n",
      "      0     0     1     0     0     0     0     0     0     0     0     0\n",
      "      0     0     0     0     0]\n",
      " [    0     1     2    11     0     2     0 13641     0     5     4     0\n",
      "      0     1    61    39     0    57     0    60    11     0    10     0\n",
      "     71     5     0    65    57]\n",
      " [    0     0     0     0     0     0     0     5   930     0     2     0\n",
      "      0     6     0     0     0     0     0    41     0     0    15     0\n",
      "      0     5     0     5     0]\n",
      " [    0     0     0     8     0     0     0     0     0   746     0     0\n",
      "      0     0     0     0     0     0     0     0     0     0     1     0\n",
      "      0     0     0     0     0]\n",
      " [   11     0     2     0     0     0     0     2     2     0   268    48\n",
      "      0     0     0     0     1    17     0    24     0     0     1     0\n",
      "      0     0     0    53     0]\n",
      " [    0     0     4     0     0     0     0     3     0     0    17   299\n",
      "      0     0     0     0     0    10     0     0     0     0     0     0\n",
      "      0     0     0     0     0]\n",
      " [    8     0     0    70     0     0     0     0     0     0     0     0\n",
      "    514     1     0     0     0    67     0    18     0     0     0     0\n",
      "     41     0     0     0    56]\n",
      " [    0     0     0     4     4     0     0     6     8     0     0     0\n",
      "      0  1265     0     1     0    11     0     9     0     0     1     0\n",
      "      0     0     0     0     0]\n",
      " [    0     0     0     0     0    26     3     8     0     0     0     0\n",
      "      0     0 24623     0     0     0     0     0     0     0     0     0\n",
      "      8     3     0     0     0]\n",
      " [    0     6    14    32    27     3     0    25     0     0     0     0\n",
      "      0     1     0 52378     0     6     0    33     4     0     0     0\n",
      "      2     8     0    22    11]\n",
      " [    0     0     0     0    12     0     0     0     0     0     1     0\n",
      "      0     0     0     3     1     0     0     3     0     0     0     0\n",
      "      0     0     0     0     0]\n",
      " [    0     0     3     0     0    20     0   109     0     0     2     0\n",
      "     30    31     0     2     0  2437     0   139     1     0     0     0\n",
      "      0    65     0    21     1]\n",
      " [    0     0     0     0     0     0     0     0     0     0     1     5\n",
      "      0     0     0     0     0     0     0     0     0     0     0     0\n",
      "      0     0     0     0     0]\n",
      " [    0    11    17     7     4     0     0     1     1    19     0     0\n",
      "      0    10     0    44     0     8     0 30538     0     0    11     0\n",
      "    100     0     0    17     3]\n",
      " [    7     7    12     0     0     0     0    11     0     0     0     1\n",
      "      3     0     0    18     0     4     0     9  6267     0     4     0\n",
      "      1     1     0    18     0]\n",
      " [    0     0     0     0     0     0     0     0     0     0     0     0\n",
      "      0     9     0     0     0     0     0     3     0     0     0     0\n",
      "      0     0     0     0     0]\n",
      " [    0     0     0     0    18     0     0     8     1     0     0     0\n",
      "      0     3     2     2     0     1     0   104     5     0  2229     0\n",
      "     47     0     0    66     2]\n",
      " [    0     0     1     0     0     0     0     0     0     0     0     0\n",
      "      0     0     0     0     0     1     0     0     0     0     0     0\n",
      "      0     0     0     0     0]\n",
      " [   56    26     7     0     2     0     0     0     0     0     0     0\n",
      "      6     0    29     0     0     0     0    27     0     0     1     0\n",
      "  17598     0     0     5     0]\n",
      " [    0     5    31     0     0    11     0     9     4     0     0     0\n",
      "      0     0    73     0     0    15     0    12     0     0     4     0\n",
      "      0  1953     0    19     0]\n",
      " [    3    34   167     0     0     0     0     0     0     0     0     0\n",
      "      0     0     2     0     0     0     0     0     0     0     0     0\n",
      "      9     0     0     0     0]\n",
      " [   10     0    66    38     0     0     0     7     1     0     7     0\n",
      "      0     0     0    17     0    10     0     0     0     0     2     0\n",
      "      1    12     0 98599     0]\n",
      " [    0     0     0     0     0     0     0    15     0     0     1     0\n",
      "     15     0     1    37     0     0     0     1     0     0    20     0\n",
      "      0     0     0     0  4181]]\n"
     ]
    }
   ],
   "source": [
    "print(\"Confusion Matrix:\\n\",confusion_matrix(y_test,y_pred))"
   ]
  },
  {
   "cell_type": "code",
   "execution_count": 68,
   "id": "d618dc50",
   "metadata": {},
   "outputs": [
    {
     "name": "stdout",
     "output_type": "stream",
     "text": [
      "Training Score:\n",
      " 92.20683526544464\n",
      "Mean Squared Error:\n",
      " 1.8555748951399416\n",
      "R2 score is:\n",
      " 0.9841753250860553\n"
     ]
    }
   ],
   "source": [
    "print(\"Training Score:\\n\",model.score(x_train,y_train)*100)\n",
    "print(\"Mean Squared Error:\\n\",mean_squared_error(y_test,y_pred))\n",
    "print(\"R2 score is:\\n\",r2_score(y_test,y_pred))"
   ]
  },
  {
   "cell_type": "code",
   "execution_count": null,
   "id": "2140461d",
   "metadata": {},
   "outputs": [],
   "source": []
  }
 ],
 "metadata": {
  "kernelspec": {
   "display_name": "Python 3 (ipykernel)",
   "language": "python",
   "name": "python3"
  },
  "language_info": {
   "codemirror_mode": {
    "name": "ipython",
    "version": 3
   },
   "file_extension": ".py",
   "mimetype": "text/x-python",
   "name": "python",
   "nbconvert_exporter": "python",
   "pygments_lexer": "ipython3",
   "version": "3.10.4"
  }
 },
 "nbformat": 4,
 "nbformat_minor": 5
}
